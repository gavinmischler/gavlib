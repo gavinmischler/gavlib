{
 "cells": [
  {
   "cell_type": "markdown",
   "metadata": {},
   "source": [
    "# Using array_ops module in naplib\n",
    "\n",
    "This notebook demonstrates some of the ways the array_ops module can be used to efficiently process data."
   ]
  },
  {
   "cell_type": "code",
   "execution_count": 1,
   "metadata": {},
   "outputs": [],
   "source": [
    "import numpy as np\n",
    "import matplotlib.pyplot as plt\n",
    "\n",
    "import naplib as nl"
   ]
  },
  {
   "cell_type": "code",
   "execution_count": 3,
   "metadata": {},
   "outputs": [
    {
     "name": "stdout",
     "output_type": "stream",
     "text": [
      "This Data contains 10 trials\n",
      "Each trial has 10 channels.\n"
     ]
    }
   ],
   "source": [
    "data = nl.io.load_speech_task_data()\n",
    "print(f'This Data contains {len(data)} trials')\n",
    "print(f\"Each trial has {data['resp'][0].shape[1]} channels.\")"
   ]
  },
  {
   "cell_type": "markdown",
   "metadata": {},
   "source": [
    "### Quickly perform operations across trials\n",
    "\n",
    "In many cases, we may want to perform some array operation on all of our data, such as performing PCA or TSNE to reduce the 30 channels down to 2 dimensions. However, we want to fit these models using all of the trials' data, and then take the 2-dimensional data and split it back into the same trial lengths. To quickly do this, we can use the ```concat_apply``` function in naplib, which concatenates data across trials, performs some function on it, and then returns the result as a list of trials once again."
   ]
  },
  {
   "cell_type": "code",
   "execution_count": 4,
   "metadata": {},
   "outputs": [
    {
     "name": "stdout",
     "output_type": "stream",
     "text": [
      "Response shape: (6197, 10), PCA shape: (6197, 2)\n",
      "Response shape: (5203, 10), PCA shape: (5203, 2)\n",
      "Response shape: (6430, 10), PCA shape: (6430, 2)\n",
      "Response shape: (6206, 10), PCA shape: (6206, 2)\n"
     ]
    }
   ],
   "source": [
    "from naplib.array_ops import concat_apply\n",
    "from sklearn.decomposition import PCA\n",
    "\n",
    "pca = PCA(n_components=2)\n",
    "pca_resps = concat_apply(data['resp'], pca.fit_transform)\n",
    "\n",
    "# Print the shapes of the first four trials before and after PCA\n",
    "for n in range(4):\n",
    "    print(f\"Response shape: {data['resp'][n].shape}, PCA shape: {pca_resps[n].shape}\")"
   ]
  },
  {
   "cell_type": "markdown",
   "metadata": {},
   "source": [
    "### Include a sliding window in the operations\n",
    "\n",
    "Above we reduced 30 channels down to 2 at each time instant, but what if we want to consider a small time window of the responses, for example a 3-sample window of each electrode's response, and then reduce this 90 dimensions down to 2? To do this, we can combine the ```concat_apply``` with ```sliding_window```."
   ]
  },
  {
   "cell_type": "code",
   "execution_count": 6,
   "metadata": {},
   "outputs": [
    {
     "name": "stdout",
     "output_type": "stream",
     "text": [
      "Response shape: (6197, 10), windowed response shape: (6197, 3, 10)\n",
      "Response shape: (5203, 10), windowed response shape: (5203, 3, 10)\n",
      "Response shape: (6430, 10), windowed response shape: (6430, 3, 10)\n",
      "Response shape: (6206, 10), windowed response shape: (6206, 3, 10)\n"
     ]
    }
   ],
   "source": [
    "from naplib.array_ops import sliding_window\n",
    "\n",
    "# The sliding_window function can be used to generate sliding windows of data\n",
    "window_len = 3\n",
    "window_key_idx = 1 # This produces a noncausal window centered around the given point. Note: window_key_idx=0 -> causal, window_key_idx=window_len-1 -> anticausal, 0<window_key_idx<window_len-1 -> noncausal\n",
    "windowed_resps = [sliding_window(trial, window_len, window_key_idx=window_key_idx) for trial in data['resp']]\n",
    "\n",
    "for n in range(4):\n",
    "    print(f\"Response shape: {data['resp'][n].shape}, windowed response shape: {windowed_resps[n].shape}\")\n"
   ]
  },
  {
   "cell_type": "code",
   "execution_count": 7,
   "metadata": {},
   "outputs": [
    {
     "name": "stdout",
     "output_type": "stream",
     "text": [
      "Windowed response shape: (6197, 30), PCA shape: (6197, 2)\n",
      "Windowed response shape: (5203, 30), PCA shape: (5203, 2)\n",
      "Windowed response shape: (6430, 30), PCA shape: (6430, 2)\n",
      "Windowed response shape: (6206, 30), PCA shape: (6206, 2)\n"
     ]
    }
   ],
   "source": [
    "# now we can use concat_apply on the windowed responses to TSNE the 3*30 dimensions down to 2\n",
    "\n",
    "windowed_resps = [x.reshape(x.shape[0], -1) for x in windowed_resps] # put the 3*30 dimensions together\n",
    "pca = PCA(n_components=2)\n",
    "pca_resps = concat_apply(windowed_resps, pca.fit_transform)\n",
    "\n",
    "# Print the shapes of the first four trials before and after PCA\n",
    "for n in range(4):\n",
    "    print(f\"Windowed response shape: {windowed_resps[n].shape}, PCA shape: {pca_resps[n].shape}\")"
   ]
  },
  {
   "cell_type": "markdown",
   "metadata": {},
   "source": [
    "### Using custom functions with concat_apply\n",
    "\n",
    "The ```concat_apply``` function takes as an argument a Callable function which can be called on an array to produce another array. If we want to do more complicated things, we can define the callable function ourselves. For example, we may want to perform PCA on a window of each channel independently, reducing the window_len dimensions of data for a single channel down to 2 dimensions."
   ]
  },
  {
   "cell_type": "code",
   "execution_count": 8,
   "metadata": {},
   "outputs": [
    {
     "name": "stdout",
     "output_type": "stream",
     "text": [
      "First trial windowed response shape: (6197, 10, 10)\n",
      "\n",
      "Windowed response shape: (6197, 10, 10), PCA shape: (6197, 2, 10)\n",
      "Windowed response shape: (5203, 10, 10), PCA shape: (5203, 2, 10)\n",
      "Windowed response shape: (6430, 10, 10), PCA shape: (6430, 2, 10)\n",
      "Windowed response shape: (6206, 10, 10), PCA shape: (6206, 2, 10)\n"
     ]
    }
   ],
   "source": [
    "# first, get the windowed responses for each channel, which are of shape (time, window_len, channels) for each trial\n",
    "window_len = 10 # use a window size of 10 samples (100 ms in our data)\n",
    "window_key_idx = 0 # here we are using a causal window\n",
    "windowed_resps = [sliding_window(trial, window_len, window_key_idx=window_key_idx) for trial in data['resp']]\n",
    "\n",
    "print(f'First trial windowed response shape: {windowed_resps[0].shape}\\n')\n",
    "\n",
    "# Define our custom Callable\n",
    "# It must take a np.ndarray of shape (time, ...) as input and produce a np.ndarray with the same first dimension shape.\n",
    "# Behind the scenes, the concat_apply with concatenate all the trials across the first dimension, pass them to this\n",
    "# function, and then split the result back into the separate trials\n",
    "def single_channel_PCA(arr):\n",
    "    # base on our windowing, the input arr will be of shape (time, 10, num_channels)\n",
    "    output_shape = (arr.shape[0], 2, arr.shape[-1])\n",
    "    results = np.empty(output_shape)\n",
    "    for channel in range(arr.shape[-1]):\n",
    "        pca = PCA(n_components=2)\n",
    "        results[:,:,channel] = pca.fit_transform(arr[:,:,channel])\n",
    "    return results\n",
    "\n",
    "pca_resps_singlechannel = concat_apply(windowed_resps, single_channel_PCA)\n",
    "\n",
    "\n",
    "# Print the shapes of the first four trials before and after PCA\n",
    "for n in range(4):\n",
    "    print(f\"Windowed response shape: {windowed_resps[n].shape}, PCA shape: {pca_resps_singlechannel[n].shape}\")\n"
   ]
  },
  {
   "cell_type": "code",
   "execution_count": null,
   "metadata": {},
   "outputs": [],
   "source": []
  }
 ],
 "metadata": {
  "kernelspec": {
   "display_name": "Python 3 (ipykernel)",
   "language": "python",
   "name": "python3"
  },
  "language_info": {
   "codemirror_mode": {
    "name": "ipython",
    "version": 3
   },
   "file_extension": ".py",
   "mimetype": "text/x-python",
   "name": "python",
   "nbconvert_exporter": "python",
   "pygments_lexer": "ipython3",
   "version": "3.7.13"
  }
 },
 "nbformat": 4,
 "nbformat_minor": 2
}
