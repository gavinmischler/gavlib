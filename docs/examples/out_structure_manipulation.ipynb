{
 "cells": [
  {
   "cell_type": "markdown",
   "metadata": {},
   "source": [
    "# Working with the OutStruct object in naplib-python\n",
    "\n",
    "This example shows some of the basic operations that can be performed on the OutStruct object. We first import an outstruct from a Matlab file, then process it."
   ]
  },
  {
   "cell_type": "code",
   "execution_count": 1,
   "metadata": {},
   "outputs": [],
   "source": [
    "import numpy as np\n",
    "\n",
    "import naplib as nl\n",
    "from naplib.io import import_outstruct"
   ]
  },
  {
   "cell_type": "code",
   "execution_count": 2,
   "metadata": {},
   "outputs": [],
   "source": [
    "filepath = '../out_structs/out_sample_1.mat'\n",
    "out = import_outstruct(filepath)"
   ]
  },
  {
   "cell_type": "code",
   "execution_count": 3,
   "metadata": {},
   "outputs": [
    {
     "name": "stdout",
     "output_type": "stream",
     "text": [
      "19\n",
      "['name', 'sound', 'soundf', 'dataf', 'duration', 'befaft', 'type', 'resp', 'artifact', 'trial', 'ti', 'label', 'reverb', 'prelabel', 'significant_elecs_from_bahars']\n"
     ]
    }
   ],
   "source": [
    "# Let's look at the data we have\n",
    "print(len(out)) # number of trials/stimuli recorded\n",
    "print(out.fields) # data fields available for each trial\n"
   ]
  },
  {
   "cell_type": "code",
   "execution_count": 4,
   "metadata": {},
   "outputs": [
    {
     "name": "stdout",
     "output_type": "stream",
     "text": [
      "{'name': 'stim03', 'sound': array([0., 0., 0., ..., 0., 0., 0.]), 'soundf': 11025, 'dataf': 99.99999999999999, 'duration': 64.29525000000001, 'befaft': array([1, 1], dtype=uint8), 'type': 'EEG', 'resp': array([[ 2.03776509e-01,  6.99868651e-01,  1.28057919e+00, ...,\n",
      "         4.73146749e-01,  3.59776770e-01,  7.22036434e-01],\n",
      "       [ 3.51946491e-01,  7.30796484e-01,  1.50252881e+00, ...,\n",
      "         3.18944312e-01, -3.56117938e-04,  3.63176169e-01],\n",
      "       [ 4.10893086e-01,  7.27030218e-01,  1.66888247e+00, ...,\n",
      "         3.64803655e-01, -1.86325195e-01, -3.62754951e-02],\n",
      "       ...,\n",
      "       [-1.60245360e+00, -1.87219535e+00, -1.44771171e+00, ...,\n",
      "        -2.48791655e-01, -2.42574412e-01, -2.11003905e-01],\n",
      "       [-1.60308639e+00, -1.97499060e+00, -1.60956869e+00, ...,\n",
      "        -6.47226712e-02,  1.85667538e-01,  9.88688960e-02],\n",
      "       [-1.43953411e+00, -1.86309201e+00, -1.49261455e+00, ...,\n",
      "         1.79246245e-02,  5.33343858e-01,  2.63299957e-01]]), 'artifact': array([], shape=(0, 0), dtype=uint8), 'trial': 3, 'ti': array([0, 0, 0, ..., 0, 0, 0], dtype=uint16), 'label': array([0, 0, 0, ..., 0, 0, 0], dtype=uint8), 'reverb': array([0, 0, 0, ..., 0, 0, 0], dtype=uint8), 'prelabel': array([0, 0, 0, ..., 0, 0, 0], dtype=uint8), 'significant_elecs_from_bahars': array([0, 1, 1, 1, 1, 1, 1, 1, 1, 1, 1, 1, 1, 1, 1, 1, 1, 1, 1, 1, 1, 1,\n",
      "       1, 1, 1, 1, 1, 1, 1, 1, 1, 0, 0, 0, 0, 0, 0, 0, 0, 0, 0, 0, 0, 0,\n",
      "       0, 0, 0, 0], dtype=uint8)}\n",
      "\n",
      "['stim01', 'stim02', 'stim03', 'stim04', 'stim05', 'stim06', 'stim07', 'stim08', 'stim09', 'stim10', 'stim11', 'stim12', 'stim13', 'stim14', 'stim15', 'stim16', 'stim17', 'stim18', 'stim19']\n"
     ]
    }
   ],
   "source": [
    "# we can index into the trials using integer indices, or index into the fields with a string\n",
    "third_trial = out[2]\n",
    "print(third_trial)\n",
    "print()\n",
    "name_field = out['name']\n",
    "print(name_field)"
   ]
  },
  {
   "cell_type": "code",
   "execution_count": 5,
   "metadata": {},
   "outputs": [
    {
     "name": "stdout",
     "output_type": "stream",
     "text": [
      "OutStruct of 19 trials containing 3 fields\n",
      "[{\"name\": <class 'str'>, \"soundf\": <class 'int'>, \"resp\": <class 'numpy.ndarray'>}\n",
      "{\"name\": <class 'str'>, \"soundf\": <class 'int'>, \"resp\": <class 'numpy.ndarray'>}\n",
      "\n",
      "...\n",
      "{\"name\": <class 'str'>, \"soundf\": <class 'int'>, \"resp\": <class 'numpy.ndarray'>}]\n"
     ]
    }
   ],
   "source": [
    "# we can also extract a smaller OutStruct object which contains only a set of the\n",
    "# fields by indexing a list of fieldnames\n",
    "smaller_out = out[['name','soundf','resp']]\n",
    "print(smaller_out)"
   ]
  },
  {
   "cell_type": "code",
   "execution_count": 6,
   "metadata": {},
   "outputs": [
    {
     "name": "stdout",
     "output_type": "stream",
     "text": [
      "OutStruct of 4 trials containing 15 fields\n",
      "[{\"name\": <class 'str'>, \"sound\": <class 'numpy.ndarray'>, \"soundf\": <class 'int'>, \"dataf\": <class 'int'>, \"duration\": <class 'float'>, \"befaft\": <class 'numpy.ndarray'>, \"type\": <class 'str'>, \"resp\": <class 'numpy.ndarray'>, \"artifact\": <class 'numpy.ndarray'>, \"trial\": <class 'int'>, \"ti\": <class 'numpy.ndarray'>, \"label\": <class 'numpy.ndarray'>, \"reverb\": <class 'numpy.ndarray'>, \"prelabel\": <class 'numpy.ndarray'>, \"significant_elecs_from_bahars\": <class 'numpy.ndarray'>}\n",
      "{\"name\": <class 'str'>, \"sound\": <class 'numpy.ndarray'>, \"soundf\": <class 'int'>, \"dataf\": <class 'float'>, \"duration\": <class 'float'>, \"befaft\": <class 'numpy.ndarray'>, \"type\": <class 'str'>, \"resp\": <class 'numpy.ndarray'>, \"artifact\": <class 'numpy.ndarray'>, \"trial\": <class 'int'>, \"ti\": <class 'numpy.ndarray'>, \"label\": <class 'numpy.ndarray'>, \"reverb\": <class 'numpy.ndarray'>, \"prelabel\": <class 'numpy.ndarray'>, \"significant_elecs_from_bahars\": <class 'numpy.ndarray'>}\n",
      "\n",
      "...\n",
      "{\"name\": <class 'str'>, \"sound\": <class 'numpy.ndarray'>, \"soundf\": <class 'int'>, \"dataf\": <class 'float'>, \"duration\": <class 'float'>, \"befaft\": <class 'numpy.ndarray'>, \"type\": <class 'str'>, \"resp\": <class 'numpy.ndarray'>, \"artifact\": <class 'numpy.ndarray'>, \"trial\": <class 'int'>, \"ti\": <class 'numpy.ndarray'>, \"label\": <class 'numpy.ndarray'>, \"reverb\": <class 'numpy.ndarray'>, \"prelabel\": <class 'numpy.ndarray'>, \"significant_elecs_from_bahars\": <class 'numpy.ndarray'>}]\n",
      "\n",
      "OutStruct of 4 trials containing 15 fields\n",
      "[{\"name\": <class 'str'>, \"sound\": <class 'numpy.ndarray'>, \"soundf\": <class 'int'>, \"dataf\": <class 'float'>, \"duration\": <class 'float'>, \"befaft\": <class 'numpy.ndarray'>, \"type\": <class 'str'>, \"resp\": <class 'numpy.ndarray'>, \"artifact\": <class 'numpy.ndarray'>, \"trial\": <class 'int'>, \"ti\": <class 'numpy.ndarray'>, \"label\": <class 'numpy.ndarray'>, \"reverb\": <class 'numpy.ndarray'>, \"prelabel\": <class 'numpy.ndarray'>, \"significant_elecs_from_bahars\": <class 'numpy.ndarray'>}\n",
      "{\"name\": <class 'str'>, \"sound\": <class 'numpy.ndarray'>, \"soundf\": <class 'int'>, \"dataf\": <class 'float'>, \"duration\": <class 'float'>, \"befaft\": <class 'numpy.ndarray'>, \"type\": <class 'str'>, \"resp\": <class 'numpy.ndarray'>, \"artifact\": <class 'numpy.ndarray'>, \"trial\": <class 'int'>, \"ti\": <class 'numpy.ndarray'>, \"label\": <class 'numpy.ndarray'>, \"reverb\": <class 'numpy.ndarray'>, \"prelabel\": <class 'numpy.ndarray'>, \"significant_elecs_from_bahars\": <class 'numpy.ndarray'>}\n",
      "\n",
      "...\n",
      "{\"name\": <class 'str'>, \"sound\": <class 'numpy.ndarray'>, \"soundf\": <class 'int'>, \"dataf\": <class 'float'>, \"duration\": <class 'float'>, \"befaft\": <class 'numpy.ndarray'>, \"type\": <class 'str'>, \"resp\": <class 'numpy.ndarray'>, \"artifact\": <class 'numpy.ndarray'>, \"trial\": <class 'int'>, \"ti\": <class 'numpy.ndarray'>, \"label\": <class 'numpy.ndarray'>, \"reverb\": <class 'numpy.ndarray'>, \"prelabel\": <class 'numpy.ndarray'>, \"significant_elecs_from_bahars\": <class 'numpy.ndarray'>}]\n"
     ]
    }
   ],
   "source": [
    "# we can also extract a smaller OutStruct by indexing with slicing\n",
    "# or a list of trial indices\n",
    "smaller_out2 = out[[0,2,4,9]]\n",
    "print(smaller_out2)\n",
    "print()\n",
    "smaller_out3 = out[1:5]\n",
    "print(smaller_out3)"
   ]
  },
  {
   "cell_type": "code",
   "execution_count": 7,
   "metadata": {},
   "outputs": [
    {
     "name": "stdout",
     "output_type": "stream",
     "text": [
      "trial 0-----\n",
      "<class 'dict'>\n",
      "stim01\n",
      "trial 1-----\n",
      "<class 'dict'>\n",
      "stim02\n",
      "trial 2-----\n",
      "<class 'dict'>\n",
      "stim03\n"
     ]
    }
   ],
   "source": [
    "# We can also iterate over the trials and get interesting information\n",
    "for t, trial in enumerate(out[:3]): # only look at the first 3 trials\n",
    "    print(f'trial {t}-----')\n",
    "    print(type(trial)) # each trial is a dictionary object\n",
    "    print(trial['name']) # we can access a single field of this trial, like the name\n"
   ]
  },
  {
   "cell_type": "code",
   "execution_count": 8,
   "metadata": {},
   "outputs": [
    {
     "name": "stdout",
     "output_type": "stream",
     "text": [
      "[(6197, 30), (5203, 30), (6430, 30), (6206, 30), (6560, 30), (7194, 30), (8540, 30), (6586, 30), (5904, 30), (5621, 30), (8707, 30), (7602, 30), (4977, 30), (3751, 30), (3485, 30), (3778, 30), (2979, 30), (2986, 30), (448, 30)]\n",
      "[(6197, 30), (5203, 30), (6430, 30), (6206, 30), (6560, 30), (7194, 30), (8540, 30), (6586, 30), (5904, 30), (5621, 30), (8707, 30), (7602, 30), (4977, 30), (3751, 30), (3485, 30), (3778, 30), (2979, 30), (2986, 30), (448, 30)]\n"
     ]
    }
   ],
   "source": [
    "# we can also access a single field of all the trials by using out.get_field(), or just brackets\n",
    "print([resp.shape for resp in out.get_field('resp')]) # shape of each trial: (time * num_elecs)\n",
    "print([resp.shape for resp in out['resp']]) # equivalent to above\n"
   ]
  },
  {
   "cell_type": "code",
   "execution_count": 9,
   "metadata": {},
   "outputs": [
    {
     "name": "stdout",
     "output_type": "stream",
     "text": [
      "this subject has 30 electrodes...\n",
      "after concatenating, each trial has shape:\n",
      "[(6197, 60), (5203, 60), (6430, 60), (6206, 60), (6560, 60), (7194, 60), (8540, 60), (6586, 60), (5904, 60), (5621, 60), (8707, 60), (7602, 60), (4977, 60), (3751, 60), (3485, 60), (3778, 60), (2979, 60), (2986, 60), (448, 60)]\n"
     ]
    }
   ],
   "source": [
    "# We can also join different subjects data, such as concatenating their \"resp\"\n",
    "# fields together to get the responses to all subjects' electrodes\n",
    "filepath = '../out_structs/out_sample_2.mat'\n",
    "out_other = import_outstruct(filepath)\n",
    "print(\"this subject has {} electrodes...\".format(out_other['resp'][0].shape[1])) # dimensions of \n",
    "\n",
    "\n",
    "# join the \"resp\" fields, now we have all electrodes data together\n",
    "joined_responses = nl.join_fields([out, out_other], fieldname='resp', axis=-1)\n",
    "print('after concatenating, each trial has shape:')\n",
    "print([resp.shape for resp in joined_responses])\n"
   ]
  },
  {
   "cell_type": "code",
   "execution_count": null,
   "metadata": {},
   "outputs": [],
   "source": []
  },
  {
   "cell_type": "markdown",
   "metadata": {},
   "source": [
    "If we have some more data, labels, or something that we want to store in our OutStruct as well, we can add a field to the OutStruct. To add a field, you must pass in either a list of the same length as the OutStruct which contains the data for this field for each trial, or a multidimensional array where the first index is the length of the OutStruct"
   ]
  },
  {
   "cell_type": "code",
   "execution_count": 10,
   "metadata": {},
   "outputs": [
    {
     "name": "stdout",
     "output_type": "stream",
     "text": [
      "['name', 'sound', 'soundf', 'dataf', 'duration', 'befaft', 'type', 'resp', 'artifact', 'trial', 'ti', 'label', 'reverb', 'prelabel', 'significant_elecs_from_bahars', 'test_name']\n",
      "test0\n"
     ]
    }
   ],
   "source": [
    "# for example, let's add a new name for each and call the field \"test_name\"\n",
    "new_field_data = [f'test{i}' for i in range(19)]\n",
    "out.set_field(new_field_data, fieldname='test_name')\n",
    "print(out.fields) # now we have a new field\n",
    "print(out[0]['test_name']) # let's print the data in this field for the first trial"
   ]
  },
  {
   "cell_type": "markdown",
   "metadata": {},
   "source": [
    "### Processing an OutStruct"
   ]
  },
  {
   "cell_type": "code",
   "execution_count": 11,
   "metadata": {},
   "outputs": [],
   "source": [
    "# now let's zscore the response data over time (and across all trials)\n",
    "from naplib.preprocessing import normalize\n",
    "\n",
    "norm_resp = normalize(outstruct=out, data='resp', axis=0, method='zscore')\n"
   ]
  },
  {
   "cell_type": "code",
   "execution_count": 12,
   "metadata": {},
   "outputs": [],
   "source": [
    "# we can also directly pass in the field as the data\n",
    "\n",
    "norm_resp2 = normalize(data=out.get_field('resp'), axis=0, method='zscore')\n"
   ]
  },
  {
   "cell_type": "code",
   "execution_count": 13,
   "metadata": {},
   "outputs": [
    {
     "name": "stdout",
     "output_type": "stream",
     "text": [
      "[0.82153982 1.13056419 1.46729383 1.63991529 1.80746745 1.6620427\n",
      " 1.49965842 1.54505928 1.47529691 1.35430757 1.23219641 1.25273965\n",
      " 1.30835683 0.95506827 0.82565716 0.74135743 0.8675098  1.09265345\n",
      " 1.18879407 1.26099978 1.24296696 1.20067893 1.51760834 1.74466428\n",
      " 1.94255046 1.80243959 1.20675949 0.88059825 0.90514038 1.09985971]\n",
      "[0.82046506 0.96945641 1.07992902 1.11316762 1.11249377 1.07419394\n",
      " 1.02577959 1.06583431 1.11442683 1.12698377 1.08298257 1.08600933\n",
      " 1.07794006 0.92745478 0.91390538 0.86545181 0.95008439 1.03271206\n",
      " 1.03436409 1.00737443 1.045131   1.03296959 1.13533031 1.12382104\n",
      " 1.15945381 1.1279667  1.05699912 0.97674993 0.97234702 1.01658648]\n",
      "[0.82046506 0.96945641 1.07992902 1.11316762 1.11249377 1.07419394\n",
      " 1.02577959 1.06583431 1.11442683 1.12698377 1.08298257 1.08600933\n",
      " 1.07794006 0.92745478 0.91390538 0.86545181 0.95008439 1.03271206\n",
      " 1.03436409 1.00737443 1.045131   1.03296959 1.13533031 1.12382104\n",
      " 1.15945381 1.1279667  1.05699912 0.97674993 0.97234702 1.01658648]\n"
     ]
    }
   ],
   "source": [
    "# print out the standard deviation before and after normalization\n",
    "# Note: the standard dev. is not exactly 1 because it was computed over the full out struct,\n",
    "# not for each trial individually\n",
    "\n",
    "print(out[0]['resp'].std(axis=0))\n",
    "print(norm_resp[0].std(axis=0))\n",
    "print(norm_resp2[0].std(axis=0))"
   ]
  },
  {
   "cell_type": "code",
   "execution_count": 14,
   "metadata": {},
   "outputs": [
    {
     "name": "stdout",
     "output_type": "stream",
     "text": [
      "[0.82046506 0.96945641 1.07992902 1.11316762 1.11249377 1.07419394\n",
      " 1.02577959 1.06583431 1.11442683 1.12698377 1.08298257 1.08600933\n",
      " 1.07794006 0.92745478 0.91390538 0.86545181 0.95008439 1.03271206\n",
      " 1.03436409 1.00737443 1.045131   1.03296959 1.13533031 1.12382104\n",
      " 1.15945381 1.1279667  1.05699912 0.97674993 0.97234702 1.01658648]\n"
     ]
    }
   ],
   "source": [
    "# looks good, so let's replace the 'resp' field in our outstruct with this new normalized resp\n",
    "out['resp'] = norm_resp\n",
    "print(out[0]['resp'].std(axis=0)) # now the normalized data is in the 'resp' field"
   ]
  },
  {
   "cell_type": "markdown",
   "metadata": {},
   "source": [
    "### Segmenting responses based on transitions between different labels\n",
    "\n",
    "In this task, the noise in the background changed every 3-6 seconds. The current noise in the background is given by the \"label\" field of the outstruct. We can use this field to segment the responses around the label changes."
   ]
  },
  {
   "cell_type": "code",
   "execution_count": 15,
   "metadata": {},
   "outputs": [],
   "source": [
    "from naplib.segmentation import segment_around_label_transitions\n",
    "\n",
    "# segment and return chunks with 50 samples before the transition and 300 samples after\n",
    "resp_segments, labels, prior_labels = segment_around_label_transitions(outstruct=out, data='resp',\n",
    "                                                                       labels='label', prechange_samples=50,\n",
    "                                                                       postchange_samples=300)\n"
   ]
  },
  {
   "cell_type": "code",
   "execution_count": 16,
   "metadata": {},
   "outputs": [
    {
     "name": "stdout",
     "output_type": "stream",
     "text": [
      "(310, 350, 30)\n",
      "(310,)\n",
      "(310,)\n"
     ]
    }
   ],
   "source": [
    "# let's look at what we have\n",
    "print(resp_segments.shape) # num_segments * time * electrodes\n",
    "print(labels.shape) # num_segments,\n",
    "print(prior_labels.shape) # num_segments,"
   ]
  },
  {
   "cell_type": "markdown",
   "metadata": {},
   "source": [
    "### Visualization with shadederrorplot\n",
    "\n",
    "Let's make a quick plot of the average response over all electrodes to the transitions, and to a specific transition type"
   ]
  },
  {
   "cell_type": "code",
   "execution_count": 17,
   "metadata": {},
   "outputs": [],
   "source": [
    "import matplotlib.pyplot as plt\n",
    "from naplib.visualization import shadederrorplot"
   ]
  },
  {
   "cell_type": "code",
   "execution_count": 18,
   "metadata": {},
   "outputs": [
    {
     "data": {
      "image/png": "[encoded data removed]",
      "text/plain": [
       "<Figure size 504x216 with 2 Axes>"
      ]
     },
     "metadata": {
      "needs_background": "light"
     },
     "output_type": "display_data"
    }
   ],
   "source": [
    "fig, axes = plt.subplots(1,2,figsize=(7,3))\n",
    "\n",
    "x = np.linspace(-0.5, 3, 350)\n",
    "\n",
    "# average over all transitions and input the time-by-electrodes data\n",
    "shadederrorplot(x, resp_segments.mean(0), ax=axes[0])\n",
    "axes[0].set_title('Transitions to any new label')\n",
    "\n",
    "# now, average over all the transitions to just one label type\n",
    "# change some parameters for second plot\n",
    "plt_args = {'color': 'g'}\n",
    "shade_args = {'color': 'g', 'alpha': 0.3}\n",
    "shadederrorplot(x, resp_segments[labels==3].mean(0), plt_args=plt_args, shade_args=shade_args, ax=axes[1])\n",
    "axes[1].set_title('Transitions to label=3')\n",
    "\n",
    "plt.show()\n",
    "\n"
   ]
  }
 ],
 "metadata": {
  "kernelspec": {
   "display_name": "Python 3 (ipykernel)",
   "language": "python",
   "name": "python3"
  },
  "language_info": {
   "codemirror_mode": {
    "name": "ipython",
    "version": 3
   },
   "file_extension": ".py",
   "mimetype": "text/x-python",
   "name": "python",
   "nbconvert_exporter": "python",
   "pygments_lexer": "ipython3",
   "version": "3.7.13"
  }
 },
 "nbformat": 4,
 "nbformat_minor": 2
}
