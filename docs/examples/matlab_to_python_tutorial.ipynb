{
 "cells": [
  {
   "cell_type": "markdown",
   "id": "bde9d17d",
   "metadata": {},
   "source": [
    "# Getting Started with Python for Beginners or Those with Matlab Background"
   ]
  },
  {
   "cell_type": "markdown",
   "id": "73617436",
   "metadata": {},
   "source": [
    "Working in python can feel very different from Matlab, but once you have some of the basics down, it should begin to feel just as natural to you. In this tutorial, we will walk through some of the basics of using python so you can get to work and begin using ``naplib-python`` to assist with a variety of data processing tasks that you might have done in Matlab."
   ]
  },
  {
   "cell_type": "markdown",
   "id": "0104a34d",
   "metadata": {},
   "source": [
    "## 1. Setting up python\n",
    "\n",
    "One of the easiest ways to get started with python is to first [install Miniconda](https://docs.conda.io/en/latest/miniconda.html), which contains conda, Python, pip, and some small packages that will let you begin installing other packages and running code.\n"
   ]
  },
  {
   "cell_type": "markdown",
   "id": "f839fbd6",
   "metadata": {},
   "source": [
    "## 2. Setting up a jupyter notebook\n",
    "\n",
    "While Matlab code is typically run inside the Matlab program interface, python code can be run from various places, such as from the command-line or inside a jupyter notebook. (This tutorial is actually a jupyter notebook). Jupyter notebooks are similar to Matlab scripts with `cells` of code that you can run one-at-a-time, similar to a section of a Matlab script separated by ##. Given the ease and similarity, we will focus on running python within a jupyter notebook.\n",
    "\n",
    "The following tutorial shows how to install Juypter and Jupyter notebook from the command-line:\n",
    "\n",
    "- https://jupyter.org/install\n",
    "\n",
    "Once you have it installed, you should be able to start a Jupyter notebook from the command-line:\n",
    "\n",
    "```\n",
    "jupyter notebook\n",
    "```\n",
    "\n",
    "This will open a new tab in your browser and you can create a new jupyter notebook (which will be a .ipynb file) to write and run python code."
   ]
  },
  {
   "cell_type": "markdown",
   "id": "fe56e16a",
   "metadata": {},
   "source": [
    "## 3. Installing python packages\n",
    "\n",
    "Python is a programming language, not a full set of software, so in order to use certain tools and functionality, you need to install packages and toolkits separately. For example, python can't inherently compute a Fourier transform, but the ``numpy`` package does contain that function. In order to install packages, we can either use ``pip`` or ``conda``, which are both tools that enable python packages to be installed into your environment. \n",
    "\n",
    "Most of the basic math functionality that Matlab has can be found in the ``numpy`` package, and plotting functionality can be found in the ``matplotlib`` package. To install these, simply run the following lines from the command line:\n",
    "\n",
    "```\n",
    "pip install numpy\n",
    "pip install matplotlib\n",
    "```\n",
    "\n",
    "You can also ``pip install`` other packages, including `naplib-python`. If there is a specific function that you want, such as something that will perform Ridge Regression, the best thing to do is Google \"ridge regression python\". In this case, the first result might be this [sklearn documentation for ridge regression](https://scikit-learn.org/stable/modules/generated/sklearn.linear_model.Ridge.html). `sklearn` is a python package with a wide range of machine learning classes and functions, and on that documentation site you can easily navigate to the [Install](https://scikit-learn.org/stable/install.html) page which will tell you that to install it you can simply run \n",
    "\n",
    "```\n",
    "pip install -U scikit-learn\n",
    "```"
   ]
  },
  {
   "cell_type": "markdown",
   "id": "9cc4cf9a",
   "metadata": {},
   "source": [
    "## 4. Simple code in python\n",
    "\n",
    "Once you have a new jupyter notebook opened, you can begin writing python code and running it inside the notebook, similar to running sections of a script in Matlab and seeing the output for each section. The following cells contain actual code snippets you should be able to run which will walk you through some simple functionality. To run a cell, you can click the \"run\" button/symbol at the top of Jupyter notebook, or just SHIFT + ENTER while your insertion cursor is inside the cell."
   ]
  },
  {
   "cell_type": "code",
   "execution_count": 1,
   "id": "534671bb",
   "metadata": {},
   "outputs": [
    {
     "name": "stdout",
     "output_type": "stream",
     "text": [
      "String\n"
     ]
    }
   ],
   "source": [
    "# This is a comment in python. Using the # turns the rest of the line into a comment\n",
    "\n",
    "# To print something, use the print() function, similar to disp() in Matlab\n",
    "print('String')"
   ]
  },
  {
   "cell_type": "code",
   "execution_count": 2,
   "id": "e17abbd1",
   "metadata": {},
   "outputs": [
    {
     "name": "stdout",
     "output_type": "stream",
     "text": [
      "15\n"
     ]
    }
   ],
   "source": [
    "# Create variables and print their sum\n",
    "x = 5\n",
    "y = 10\n",
    "print(x+y)"
   ]
  },
  {
   "cell_type": "code",
   "execution_count": 3,
   "id": "3d00792a",
   "metadata": {},
   "outputs": [
    {
     "name": "stdout",
     "output_type": "stream",
     "text": [
      "1\n",
      "2\n",
      "3\n",
      "Four\n",
      "['elem1', 'elem2']\n"
     ]
    }
   ],
   "source": [
    "# List objects contain an ordered list of items, which can be any type, even another list\n",
    "list_1 = [1, 2, 3, 'Four', ['elem1', 'elem2']]\n",
    "\n",
    "# We can loop through elements of a list with a for loop\n",
    "for element in list_1:\n",
    "    print(element)\n"
   ]
  },
  {
   "cell_type": "code",
   "execution_count": 4,
   "id": "60820712",
   "metadata": {},
   "outputs": [
    {
     "name": "stdout",
     "output_type": "stream",
     "text": [
      "Index- 0   1\n",
      "Index- 1   2\n",
      "Index- 2   3\n",
      "Index- 3   Four\n",
      "Index- 4   ['elem1', 'elem2']\n"
     ]
    }
   ],
   "source": [
    "# We can also loop through by looping through an index variable\n",
    "# In Matlab, we could write \"for index in 1:length(list_1)\", but in python, we\n",
    "# can use the range() function instead of 1:length(list_1). Also, python is zero-indexed,\n",
    "# so the first index is 0, not 1\n",
    "for index in range(len(list_1)):\n",
    "    print('Index-', index, ' ', list_1[index]) # access elements of a list by index using square brackets"
   ]
  },
  {
   "cell_type": "code",
   "execution_count": 5,
   "id": "efe2117f",
   "metadata": {},
   "outputs": [
    {
     "name": "stdout",
     "output_type": "stream",
     "text": [
      "Index- 0   1\n",
      "Index- 1   2\n",
      "Index- 2   3\n",
      "Index- 3   Four\n",
      "Index- 4   ['elem1', 'elem2']\n"
     ]
    }
   ],
   "source": [
    "# We can get both the element and the index at once with the enumerate() function\n",
    "for index, element in enumerate(list_1):\n",
    "    print('Index-', index, ' ', element)"
   ]
  },
  {
   "cell_type": "code",
   "execution_count": 6,
   "id": "baf6ea56",
   "metadata": {},
   "outputs": [
    {
     "name": "stdout",
     "output_type": "stream",
     "text": [
      "3.14\n"
     ]
    }
   ],
   "source": [
    "# A dictionary (or dict) is an object which stores key:value pairs, similar to a struct in Matlab\n",
    "# You can make one using curly braces like this\n",
    "dict_1 = {'list': [0,1,2], 'pi': 3.14}\n",
    "\n",
    "# Access the elements using square brackets and the key\n",
    "print(dict_1['pi'])"
   ]
  },
  {
   "cell_type": "markdown",
   "id": "50fd230b",
   "metadata": {},
   "source": [
    "## 5. Using installed packages (numpy and matplotlib)\n",
    "\n",
    "If you want to use the functionality from a package you installed, you need to import it within the jupyter notebook somewhere. To get functionality like Matlab, you will probably always want to import `numpy` and `matplotlib` like in the next cell."
   ]
  },
  {
   "cell_type": "code",
   "execution_count": 7,
   "id": "a1eb78c2",
   "metadata": {},
   "outputs": [],
   "source": [
    "# Import numpy and \"rename\" it as np\n",
    "import numpy as np\n",
    "\n",
    "# Import a module of matplotlib called pyplot, and \"rename\" it as plt\n",
    "import matplotlib.pyplot as plt\n",
    "# this embeds the figures in the notebook\n",
    "%matplotlib inline"
   ]
  },
  {
   "cell_type": "code",
   "execution_count": 8,
   "id": "e19d752f",
   "metadata": {},
   "outputs": [
    {
     "name": "stdout",
     "output_type": "stream",
     "text": [
      "(20,)\n",
      "(20, 2)\n"
     ]
    }
   ],
   "source": [
    "# numpy has syntax that is often similar to Matlab, so it should be easy to get used to\n",
    "# Here, we create two variables using numpy which will be stored as a numpy array, which\n",
    "# is very similar to an array in Matlab\n",
    "x = np.linspace(0, 10, 20) # here we call the numpy function linspace()\n",
    "y = np.random.rand(20, 2) # here we call the rand() function, which is inside the numpy module called \"random\"\n",
    "\n",
    "# We can check the shape of each of these variables\n",
    "print(x.shape)\n",
    "print(y.shape)"
   ]
  },
  {
   "cell_type": "code",
   "execution_count": 9,
   "id": "6a85a85b",
   "metadata": {},
   "outputs": [
    {
     "name": "stdout",
     "output_type": "stream",
     "text": [
      "2.631578947368421\n",
      "0.4393260613392761\n"
     ]
    }
   ],
   "source": [
    "# We can access specific indices in the arrays using square brackets\n",
    "print(x[5])\n",
    "print(y[10,1])"
   ]
  },
  {
   "cell_type": "code",
   "execution_count": 10,
   "id": "4500527e",
   "metadata": {},
   "outputs": [
    {
     "data": {
      "image/png": "[encoded data removed]",
      "text/plain": [
       "<Figure size 432x288 with 1 Axes>"
      ]
     },
     "metadata": {
      "needs_background": "light"
     },
     "output_type": "display_data"
    }
   ],
   "source": [
    "# We can plot using matplotlib\n",
    "plt.figure() # create new figure using the figure() function in pyplot\n",
    "plt.plot(x, y) # plot on the current figure\n",
    "plt.show() # show the plot"
   ]
  },
  {
   "cell_type": "markdown",
   "id": "8aa9991c",
   "metadata": {},
   "source": [
    "## 6. Writing our own functions\n",
    "\n",
    "Writing our own functions is very similar to Matlab.\n",
    "\n",
    "The function definition is of the form:\n",
    "```python\n",
    "def function_name(arg1, arg2, kwarg1=default_value):\n",
    "    # internal logic/math\n",
    "    return value\n",
    "```"
   ]
  },
  {
   "cell_type": "code",
   "execution_count": 11,
   "id": "3ec710b2",
   "metadata": {},
   "outputs": [],
   "source": [
    "# For example, let's write a function which computes the average and standard deviation of a numpy array\n",
    "def avg_and_std(x):\n",
    "    avg = x.mean() # if x in a numpy array, you can call x.mean() to get the mean across all dimensions\n",
    "    std = x.std() # same as above with x.std()\n",
    "    return avg, std # to return multiple things, separate them with a comma. This returns a \"tuple\", which is similar to a list"
   ]
  },
  {
   "cell_type": "code",
   "execution_count": 12,
   "id": "5bd471f8",
   "metadata": {},
   "outputs": [
    {
     "name": "stdout",
     "output_type": "stream",
     "text": [
      "(3, 2)\n",
      "[[0 1]\n",
      " [2 3]\n",
      " [4 5]]\n"
     ]
    }
   ],
   "source": [
    "# Now, we can call the function on some data\n",
    "data = np.array([[0,1],[2,3],[4,5]])\n",
    "print(data.shape)\n",
    "print(data)"
   ]
  },
  {
   "cell_type": "code",
   "execution_count": 13,
   "id": "34f220a1",
   "metadata": {},
   "outputs": [
    {
     "name": "stdout",
     "output_type": "stream",
     "text": [
      "2.5\n",
      "1.707825127659933\n"
     ]
    }
   ],
   "source": [
    "average, standard_dev = avg_and_std(data)\n",
    "print(average)\n",
    "print(standard_dev)"
   ]
  },
  {
   "cell_type": "markdown",
   "id": "59ec3322",
   "metadata": {},
   "source": [
    "#### That gave us the average and standard deviation of the entire array, but what if we want to compute them over a specific axis? We can edit our function to take another argument for the axis."
   ]
  },
  {
   "cell_type": "code",
   "execution_count": 14,
   "id": "b07a35e2",
   "metadata": {},
   "outputs": [],
   "source": [
    "def avg_and_std_2(x, axis):\n",
    "    avg = x.mean(axis) # call mean on a specific axis\n",
    "    std = x.std(axis) # same as above with x.std()\n",
    "    return avg, std"
   ]
  },
  {
   "cell_type": "code",
   "execution_count": 15,
   "id": "d007701a",
   "metadata": {},
   "outputs": [
    {
     "name": "stdout",
     "output_type": "stream",
     "text": [
      "[2. 3.]\n",
      "[1.63299316 1.63299316]\n",
      "\n",
      "[0.5 2.5 4.5]\n",
      "[0.5 0.5 0.5]\n"
     ]
    }
   ],
   "source": [
    "# on the first axis (column-wise):\n",
    "average, standard_dev = avg_and_std_2(data, 0)\n",
    "print(average)\n",
    "print(standard_dev)\n",
    "print()\n",
    "\n",
    "# on the second axis (row-wise):\n",
    "average, standard_dev = avg_and_std_2(data, 1)\n",
    "print(average)\n",
    "print(standard_dev)"
   ]
  },
  {
   "cell_type": "markdown",
   "id": "ed0c1363",
   "metadata": {},
   "source": [
    "#### What if we want there to be a default value for the axis, so we don't have to always give the argument 0 for column-wise since maybe we will normally want column-wise? We can use keyword-arguments, or kwargs, to do this:"
   ]
  },
  {
   "cell_type": "code",
   "execution_count": 16,
   "id": "48793225",
   "metadata": {},
   "outputs": [],
   "source": [
    "def avg_and_std_3(x, axis=0):\n",
    "    avg = x.mean(axis) # call mean on a specific axis\n",
    "    std = x.std(axis) # same as above with x.std()\n",
    "    return avg, std"
   ]
  },
  {
   "cell_type": "code",
   "execution_count": 17,
   "id": "a1b4a1bd",
   "metadata": {},
   "outputs": [
    {
     "name": "stdout",
     "output_type": "stream",
     "text": [
      "[2. 3.]\n",
      "[1.63299316 1.63299316]\n",
      "\n",
      "[0.5 2.5 4.5]\n",
      "[0.5 0.5 0.5]\n"
     ]
    }
   ],
   "source": [
    "# now, we don't need to specifiy axis=0 to do column-wise:\n",
    "average, standard_dev = avg_and_std_3(data)\n",
    "print(average)\n",
    "print(standard_dev)\n",
    "print()\n",
    "\n",
    "# and to do row-wise, we simply specify the keyword-argument:\n",
    "average, standard_dev = avg_and_std_3(data, axis=1)\n",
    "print(average)\n",
    "print(standard_dev)"
   ]
  },
  {
   "cell_type": "markdown",
   "id": "5dd0d872",
   "metadata": {},
   "source": [
    "## Other resources\n",
    "\n",
    "Here are other tutorials on switching from Matlab to python and getting started.\n",
    "\n",
    "- https://realpython.com/matlab-vs-python/\n",
    "- https://nickc1.github.io/python,/matlab/2016/06/01/Switching-from-Matlab-to-Python.html\n",
    "\n",
    "A great [series of tutorials](https://jrjohansson.github.io/computing.html) on scientific computing in Python by J R Johansson\n",
    "\n",
    "- [Intro to python](http://nbviewer.ipython.org/github/jrjohansson/scientific-python-lectures/blob/master/Lecture-1-Introduction-to-Python-Programming.ipynb)\n",
    "- [Using numpy](http://nbviewer.ipython.org/github/jrjohansson/scientific-python-lectures/blob/master/Lecture-2-Numpy.ipynb)\n",
    "- [Using Scipy](http://nbviewer.ipython.org/github/jrjohansson/scientific-python-lectures/blob/master/Lecture-3-Scipy.ipynb)\n",
    "- [Plotting with Matplotlib](https://nbviewer.org/github/jrjohansson/scientific-python-lectures/blob/master/Lecture-4-Matplotlib.ipynb)\n"
   ]
  }
 ],
 "metadata": {
  "kernelspec": {
   "display_name": "Python 3 (ipykernel)",
   "language": "python",
   "name": "python3"
  },
  "language_info": {
   "codemirror_mode": {
    "name": "ipython",
    "version": 3
   },
   "file_extension": ".py",
   "mimetype": "text/x-python",
   "name": "python",
   "nbconvert_exporter": "python",
   "pygments_lexer": "ipython3",
   "version": "3.7.10"
  }
 },
 "nbformat": 4,
 "nbformat_minor": 5
}
