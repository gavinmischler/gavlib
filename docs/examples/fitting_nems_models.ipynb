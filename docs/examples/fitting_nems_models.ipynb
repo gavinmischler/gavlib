{
 "cells": [
  {
   "cell_type": "markdown",
   "id": "7ca422ce",
   "metadata": {},
   "source": [
    "# Fitting Encoding Models with NEMS Library\n",
    "\n",
    "In this tutotial we show how to easily train models built using the [Neural Encoding Model System (NEMS)](https://github.com/LBHB/NEMS) library. Here, we show how to train cross-validated linear-nonlinear STRF models."
   ]
  },
  {
   "cell_type": "code",
   "execution_count": 2,
   "id": "65142b6b",
   "metadata": {},
   "outputs": [],
   "source": [
    "import numpy as np\n",
    "\n",
    "import naplib as nl\n",
    "from naplib.model_selection import KFold\n",
    "\n",
    "import nems"
   ]
  },
  {
   "cell_type": "code",
   "execution_count": 3,
   "id": "91cecdd6",
   "metadata": {},
   "outputs": [],
   "source": [
    "from nems import Model\n",
    "from nems.layers import STRF, DoubleExponential, StateGain\n",
    "from nems.models import LN_STRF"
   ]
  },
  {
   "cell_type": "code",
   "execution_count": 4,
   "id": "2ea4634a",
   "metadata": {},
   "outputs": [
    {
     "name": "stdout",
     "output_type": "stream",
     "text": [
      "This data has 18 trials\n"
     ]
    }
   ],
   "source": [
    "filepath = '../out_structs/out_struct_sample.mat'\n",
    "data = nl.io.import_outstruct(filepath)\n",
    "print(f'This data has {len(data)} trials')"
   ]
  },
  {
   "cell_type": "code",
   "execution_count": 5,
   "id": "faeaafd8",
   "metadata": {},
   "outputs": [
    {
     "name": "stdout",
     "output_type": "stream",
     "text": [
      "(6047, 23)\n"
     ]
    }
   ],
   "source": [
    "# look at the shape of the spectrograms we have\n",
    "print(data['aud'][0].shape) # (time * frequency)"
   ]
  },
  {
   "cell_type": "code",
   "execution_count": 6,
   "id": "037e13ab",
   "metadata": {},
   "outputs": [
    {
     "name": "stdout",
     "output_type": "stream",
     "text": [
      "(6047, 30)\n",
      "(6047, 3)\n"
     ]
    }
   ],
   "source": [
    "# look at the shape of the responses we have\n",
    "print(data['resp'][0].shape) # (time * channels)\n",
    "\n",
    "# for simplicity and time-saving, let's only use the first 3 channels\n",
    "data['resp'] = [x[:,:3] for x in data['resp']]\n",
    "print(data['resp'][0].shape) # (time * channels)\n"
   ]
  },
  {
   "cell_type": "code",
   "execution_count": 7,
   "id": "d9313cb8",
   "metadata": {},
   "outputs": [],
   "source": [
    "# normalize responses\n",
    "data['resp'] = nl.preprocessing.normalize(data=data)"
   ]
  },
  {
   "cell_type": "markdown",
   "id": "4d09b8fd",
   "metadata": {},
   "source": [
    "## Define and fit a simple Linear-Nonlinear (LN) model with NEMS\n",
    "\n",
    "This example model consists of a STRF component followed by a double-exponential nonlinearity."
   ]
  },
  {
   "cell_type": "code",
   "execution_count": 8,
   "id": "35c3e947",
   "metadata": {},
   "outputs": [],
   "source": [
    "# fitting options (quick fitting for the sake of this tutorial notebook)\n",
    "options = {'options': {'maxiter': 2, 'ftol': 1e-1}}"
   ]
  },
  {
   "cell_type": "markdown",
   "id": "6d7bcfbf",
   "metadata": {},
   "source": [
    "### Fit the model using cross-validation"
   ]
  },
  {
   "cell_type": "code",
   "execution_count": 10,
   "id": "43234b00",
   "metadata": {},
   "outputs": [
    {
     "name": "stdout",
     "output_type": "stream",
     "text": [
      "0\n",
      "Epoch 0\n",
      "==============================\n"
     ]
    },
    {
     "name": "stderr",
     "output_type": "stream",
     "text": [
      "../NEMS/nems/layers/nonlinearity.py:202: RuntimeWarning: overflow encountered in exp\n",
      "  output = base + amplitude * np.exp(-np.exp(inner_exp))\n"
     ]
    },
    {
     "name": "stdout",
     "output_type": "stream",
     "text": [
      "        Iteration 0, error is: 1.01941962...\n",
      "Fit successful: True\n",
      "Status: 0\n",
      "Message: CONVERGENCE: REL_REDUCTION_OF_F_<=_FACTR*EPSMCH\n",
      "1\n",
      "Epoch 0\n",
      "==============================\n",
      "        Iteration 0, error is: 1.01720607...\n",
      "Fit successful: True\n",
      "Status: 0\n",
      "Message: CONVERGENCE: REL_REDUCTION_OF_F_<=_FACTR*EPSMCH\n",
      "2\n",
      "Epoch 0\n",
      "==============================\n",
      "        Iteration 0, error is: 1.02602287...\n",
      "Fit successful: True\n",
      "Status: 0\n",
      "Message: CONVERGENCE: REL_REDUCTION_OF_F_<=_FACTR*EPSMCH\n",
      "3\n",
      "Epoch 0\n",
      "==============================\n",
      "        Iteration 0, error is: 1.01905902...\n",
      "Fit successful: True\n",
      "Status: 0\n",
      "Message: CONVERGENCE: REL_REDUCTION_OF_F_<=_FACTR*EPSMCH\n",
      "4\n",
      "Epoch 0\n",
      "==============================\n",
      "        Iteration 0, error is: 1.02291236...\n",
      "Fit successful: True\n",
      "Status: 0\n",
      "Message: CONVERGENCE: REL_REDUCTION_OF_F_<=_FACTR*EPSMCH\n"
     ]
    }
   ],
   "source": [
    "kfold = nl.model_selection.KFold(5) # 5-fold cross validation\n",
    "predictions = []\n",
    "\n",
    "for i, (data_train, data_test) in enumerate(kfold.split(data)):\n",
    "    print(i)\n",
    "    spec_train = np.concatenate(data_train['aud'], axis=0) # shape (time * frequency)\n",
    "    spec_test = np.concatenate(data_test['aud'], axis=0) # shape (time * frequency)\n",
    "    resp_train = np.concatenate(data_train['resp'], axis=0) # shape (time * channels)\n",
    "    resp_test = np.concatenate(data_test['resp'], axis=0) # shape (time * channels)\n",
    "    \n",
    "    # define LN model\n",
    "    model = Model()\n",
    "    model.add_layers(\n",
    "        STRF(shape=(25,23)),    # Full-rank STRF, 25 temporal bins x 23 spectral channels\n",
    "        DoubleExponential(shape=(3,)) # Double-exponential nonlinearity\n",
    "    )\n",
    "    \n",
    "    model.fit(input=spec_train, target=resp_train, fitter_options=options)\n",
    "    \n",
    "    predictions.append(model.predict(input=spec_test))\n",
    "\n",
    "    "
   ]
  },
  {
   "cell_type": "code",
   "execution_count": 11,
   "id": "ab59ca4c",
   "metadata": {},
   "outputs": [
    {
     "data": {
      "text/plain": [
       "((100006, 3), (100006, 3))"
      ]
     },
     "execution_count": 11,
     "metadata": {},
     "output_type": "execute_result"
    }
   ],
   "source": [
    "predictions_full = np.concatenate(predictions, axis=0)\n",
    "resp_full = np.concatenate(data['resp'], axis=0)\n",
    "predictions_full.shape, resp_full.shape"
   ]
  },
  {
   "cell_type": "code",
   "execution_count": null,
   "id": "b4ea7407",
   "metadata": {},
   "outputs": [],
   "source": []
  }
 ],
 "metadata": {
  "kernelspec": {
   "display_name": "Python 3 (ipykernel)",
   "language": "python",
   "name": "python3"
  },
  "language_info": {
   "codemirror_mode": {
    "name": "ipython",
    "version": 3
   },
   "file_extension": ".py",
   "mimetype": "text/x-python",
   "name": "python",
   "nbconvert_exporter": "python",
   "pygments_lexer": "ipython3",
   "version": "3.7.13"
  }
 },
 "nbformat": 4,
 "nbformat_minor": 5
}
