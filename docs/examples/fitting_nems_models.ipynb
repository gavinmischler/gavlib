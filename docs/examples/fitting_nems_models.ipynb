{
 "cells": [
  {
   "cell_type": "markdown",
   "id": "7ca422ce",
   "metadata": {},
   "source": [
    "# Fitting Encoding Models with NEMS Library\n",
    "\n",
    "In this tutotial we show how to easily train models built using the [Neural Encoding Model System (NEMS)](https://github.com/LBHB/NEMS) library. Here, we show how to train cross-validated linear-nonlinear STRF models."
   ]
  },
  {
   "cell_type": "code",
   "execution_count": 38,
   "id": "65142b6b",
   "metadata": {},
   "outputs": [],
   "source": [
    "import numpy as np\n",
    "from scipy.signal import resample\n",
    "from tqdm import tqdm\n",
    "\n",
    "import naplib as nl\n",
    "from naplib.model_selection import KFold"
   ]
  },
  {
   "cell_type": "code",
   "execution_count": 29,
   "id": "91cecdd6",
   "metadata": {},
   "outputs": [],
   "source": [
    "from nems import Model\n",
    "from nems.layers import FIR, DoubleExponential\n",
    "from nems.models import LN_STRF\n",
    "from nems.metrics import correlation"
   ]
  },
  {
   "cell_type": "code",
   "execution_count": 30,
   "id": "2ea4634a",
   "metadata": {},
   "outputs": [
    {
     "name": "stdout",
     "output_type": "stream",
     "text": [
      "This data has 10 trials\n"
     ]
    }
   ],
   "source": [
    "data = nl.io.load_speech_task_data()\n",
    "print(f'This data has {len(data)} trials')"
   ]
  },
  {
   "cell_type": "code",
   "execution_count": 31,
   "id": "faeaafd8",
   "metadata": {},
   "outputs": [
    {
     "name": "stdout",
     "output_type": "stream",
     "text": [
      "(6197, 128)\n"
     ]
    }
   ],
   "source": [
    "# look at the shape of the spectrograms we have\n",
    "print(data['aud'][0].shape) # (time * frequency)"
   ]
  },
  {
   "cell_type": "code",
   "execution_count": 32,
   "id": "72241296",
   "metadata": {},
   "outputs": [
    {
     "name": "stdout",
     "output_type": "stream",
     "text": [
      "(6197, 24)\n"
     ]
    }
   ],
   "source": [
    "# resample spectrograms to be fewer frequency bins\n",
    "data['aud'] = [resample(x, 24, axis=1) for x in data['aud']]\n",
    "print(data['aud'][0].shape) # (time * frequency)"
   ]
  },
  {
   "cell_type": "code",
   "execution_count": 33,
   "id": "037e13ab",
   "metadata": {},
   "outputs": [
    {
     "name": "stdout",
     "output_type": "stream",
     "text": [
      "(6197, 10)\n",
      "(6197, 3)\n"
     ]
    }
   ],
   "source": [
    "# look at the shape of the responses we have\n",
    "print(data['resp'][0].shape) # (time * channels)\n",
    "\n",
    "# for simplicity and time-saving, let's only use the first 3 channels\n",
    "data['resp'] = [x[:,:3] for x in data['resp']]\n",
    "print(data['resp'][0].shape) # (time * channels)\n"
   ]
  },
  {
   "cell_type": "code",
   "execution_count": 34,
   "id": "d9313cb8",
   "metadata": {},
   "outputs": [],
   "source": [
    "# normalize responses\n",
    "data['resp'] = nl.preprocessing.normalize(data=data)"
   ]
  },
  {
   "cell_type": "markdown",
   "id": "4d09b8fd",
   "metadata": {},
   "source": [
    "## Define and fit a simple Linear-Nonlinear (LN) model with NEMS\n",
    "\n",
    "This example model consists of a STRF component followed by a double-exponential nonlinearity."
   ]
  },
  {
   "cell_type": "code",
   "execution_count": 35,
   "id": "35c3e947",
   "metadata": {},
   "outputs": [],
   "source": [
    "# fitting options (quick fitting for the sake of this tutorial notebook)\n",
    "options = {'options': {'maxiter': 2, 'ftol': 1e-1}}"
   ]
  },
  {
   "cell_type": "markdown",
   "id": "6d7bcfbf",
   "metadata": {},
   "source": [
    "### Fit the model using cross-validation"
   ]
  },
  {
   "cell_type": "code",
   "execution_count": 41,
   "id": "c773be6a",
   "metadata": {},
   "outputs": [
    {
     "name": "stderr",
     "output_type": "stream",
     "text": [
      "\r",
      "0it [00:00, ?it/s]"
     ]
    },
    {
     "name": "stdout",
     "output_type": "stream",
     "text": [
      "Epoch 0\n",
      "==============================\n",
      "        Iteration 0, error is: 1.06154751...\n",
      "Fit successful: True\n",
      "Status: 0\n",
      "Message: CONVERGENCE: REL_REDUCTION_OF_F_<=_FACTR*EPSMCH\n"
     ]
    },
    {
     "name": "stderr",
     "output_type": "stream",
     "text": [
      "/Users/gavin/anaconda3/envs/naplib-nems/lib/python3.9/site-packages/numpy/lib/function_base.py:2853: RuntimeWarning: invalid value encountered in divide\n",
      "  .. [2] E.R. Kanasewich, \"Time Sequence Analysis in Geophysics\",\n",
      "/Users/gavin/anaconda3/envs/naplib-nems/lib/python3.9/site-packages/numpy/lib/function_base.py:2854: RuntimeWarning: invalid value encountered in divide\n",
      "  The University of Alberta Press, 1975, pp. 109-110.\n",
      "1it [05:32, 332.20s/it]"
     ]
    },
    {
     "name": "stdout",
     "output_type": "stream",
     "text": [
      "Epoch 0\n",
      "==============================\n",
      "        Iteration 0, error is: 1.05721753...\n",
      "Fit successful: True\n",
      "Status: 0\n",
      "Message: CONVERGENCE: REL_REDUCTION_OF_F_<=_FACTR*EPSMCH\n"
     ]
    },
    {
     "name": "stderr",
     "output_type": "stream",
     "text": [
      "\r",
      "2it [10:39, 317.54s/it]"
     ]
    },
    {
     "name": "stdout",
     "output_type": "stream",
     "text": [
      "Epoch 0\n",
      "==============================\n",
      "        Iteration 0, error is: 1.05042414...\n",
      "Fit successful: True\n",
      "Status: 0\n",
      "Message: CONVERGENCE: REL_REDUCTION_OF_F_<=_FACTR*EPSMCH\n"
     ]
    },
    {
     "name": "stderr",
     "output_type": "stream",
     "text": [
      "\r",
      "3it [15:31, 306.01s/it]"
     ]
    },
    {
     "name": "stdout",
     "output_type": "stream",
     "text": [
      "Epoch 0\n",
      "==============================\n",
      "        Iteration 0, error is: 1.06451277...\n",
      "Fit successful: True\n",
      "Status: 0\n",
      "Message: CONVERGENCE: REL_REDUCTION_OF_F_<=_FACTR*EPSMCH\n"
     ]
    },
    {
     "name": "stderr",
     "output_type": "stream",
     "text": [
      "\r",
      "4it [20:11, 295.56s/it]"
     ]
    },
    {
     "name": "stdout",
     "output_type": "stream",
     "text": [
      "Epoch 0\n",
      "==============================\n",
      "        Iteration 0, error is: 1.02326504...\n",
      "Fit successful: True\n",
      "Status: 0\n",
      "Message: CONVERGENCE: REL_REDUCTION_OF_F_<=_FACTR*EPSMCH\n"
     ]
    },
    {
     "name": "stderr",
     "output_type": "stream",
     "text": [
      "5it [26:16, 315.30s/it]\n"
     ]
    }
   ],
   "source": [
    "kfold = nl.model_selection.KFold(5) # 5-fold cross validation\n",
    "predictions = []\n",
    "scores = []\n",
    "\n",
    "for i, (data_train, data_test) in tqdm(enumerate(kfold.split(data))):\n",
    "    spec_train = np.concatenate(data_train['aud'], axis=0) # shape (time * frequency)\n",
    "    spec_test = np.concatenate(data_test['aud'], axis=0) # shape (time * frequency)\n",
    "    resp_train = np.concatenate(data_train['resp'], axis=0) # shape (time * channels)\n",
    "    resp_test = np.concatenate(data_test['resp'], axis=0) # shape (time * channels)\n",
    "    \n",
    "    # define LN model\n",
    "    model = Model()\n",
    "    model.add_layers(\n",
    "        FIR(shape=(25,24)),    # Full-rank STRF, 25 temporal bins x 23 spectral channels\n",
    "        DoubleExponential(shape=(3,)) # Double-exponential nonlinearity\n",
    "    )\n",
    "    \n",
    "    model.fit(input=spec_train, target=resp_train, fitter_options=options)\n",
    "    \n",
    "    predictions.append(model.predict(input=spec_test))\n",
    "\n",
    "    scores.append(correlation(predictions[-1], resp_test))\n",
    "    "
   ]
  },
  {
   "cell_type": "code",
   "execution_count": 43,
   "id": "ab59ca4c",
   "metadata": {},
   "outputs": [
    {
     "data": {
      "text/plain": [
       "((64441, 3), (64441, 3))"
      ]
     },
     "execution_count": 43,
     "metadata": {},
     "output_type": "execute_result"
    }
   ],
   "source": [
    "predictions_full = np.concatenate(predictions, axis=0)\n",
    "resp_full = np.concatenate(data['resp'], axis=0)\n",
    "predictions_full.shape, resp_full.shape"
   ]
  }
 ],
 "metadata": {
  "kernelspec": {
   "display_name": "Python 3 (ipykernel)",
   "language": "python",
   "name": "python3"
  },
  "language_info": {
   "codemirror_mode": {
    "name": "ipython",
    "version": 3
   },
   "file_extension": ".py",
   "mimetype": "text/x-python",
   "name": "python",
   "nbconvert_exporter": "python",
   "pygments_lexer": "ipython3",
   "version": "3.7.13"
  }
 },
 "nbformat": 4,
 "nbformat_minor": 5
}
