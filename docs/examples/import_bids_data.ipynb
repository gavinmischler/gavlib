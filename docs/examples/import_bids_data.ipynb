{
 "cells": [
  {
   "cell_type": "markdown",
   "id": "44c4725a-fa24-4c8a-ab94-411edfe4d5e5",
   "metadata": {},
   "source": [
    "# Importing Data from BIDS (Brain Imaging Data Structure)"
   ]
  },
  {
   "cell_type": "markdown",
   "id": "0d307c3d-3742-4cde-9c5d-e6475fd41cb4",
   "metadata": {},
   "source": [
    "Although there is no universal data storage format for neural data, the BIDS format has seen widespread adoption. This tutorial demonstrates how to easily load data from a BIDS format into an OutStruct using the `read_bids` function. Events stored in the BIDS format are naturally segmented to form the \"trials\" in the OutStruct, facilitating easy data analysis."
   ]
  },
  {
   "cell_type": "markdown",
   "id": "3403d2f6-9071-4b21-95fd-d24b6a757b9d",
   "metadata": {},
   "source": [
    "**Note** Loading data from BIDS requires the additional dependency [MNE-BIDS](https://mne.tools/mne-bids/stable/index.html), which is not a hard dependency of `naplib-python`, so it must be installed separately. You can find installation instructions for `MNE-BIDS` [here](https://mne.tools/mne-bids/stable/install.html). This tutorial was adapted from a [similar tutorial](https://mne.tools/mne-bids/stable/auto_examples/read_bids_datasets.html#sphx-glr-auto-examples-read-bids-datasets-py) by `MNE-BIDS`.\n",
    "\n",
    "Also, this tutorial makes use of an [openneuro](https://openneuro.org/) dataset for illustration purposes. The data downloaded here is about 1.5 GB from one subject."
   ]
  },
  {
   "cell_type": "code",
   "execution_count": 1,
   "id": "8f9a90a6-9d8f-4e7b-b84a-e6417e826906",
   "metadata": {},
   "outputs": [],
   "source": [
    "import os\n",
    "import os.path as op\n",
    "import openneuro\n",
    "from mne.datasets import sample\n",
    "from mne_bids import print_dir_tree\n",
    "import numpy as np\n",
    "import matplotlib.pyplot as plt\n",
    "\n",
    "from naplib.io import read_bids"
   ]
  },
  {
   "cell_type": "code",
   "execution_count": 2,
   "id": "4f21ad29-ec97-4a31-a652-5547b54bcce2",
   "metadata": {},
   "outputs": [
    {
     "name": "stdout",
     "output_type": "stream",
     "text": [
      "/home/gavin/mne_data/ds002778\n"
     ]
    }
   ],
   "source": [
    "dataset = 'ds002778'\n",
    "subject = 'pd6'\n",
    "\n",
    "bids_root = op.join(op.dirname(sample.data_path()), dataset)\n",
    "print(bids_root)\n",
    "if not op.isdir(bids_root):\n",
    "    os.makedirs(bids_root)\n"
   ]
  },
  {
   "cell_type": "code",
   "execution_count": 3,
   "id": "3c85ad18-d1e6-48a9-98bf-9c6a250de5a7",
   "metadata": {},
   "outputs": [
    {
     "name": "stdout",
     "output_type": "stream",
     "text": [
      "\n",
      "👋 Hello! This is openneuro-py 2022.1.0. Great to see you! 🤗\n",
      "\n",
      "   👉 Please report problems 🤯 and bugs 🪲 at\n",
      "      https://github.com/hoechenberger/openneuro-py/issues\n",
      "\n",
      "🌍 Preparing to download ds002778 …\n",
      "👉 Retrieving up to 19 files (5 concurrent downloads).\n",
      "✅ Finished downloading ds002778.\n",
      "\n",
      "🧠 Please enjoy your brains.\n",
      "\n"
     ]
    }
   ],
   "source": [
    "openneuro.download(dataset=dataset, target_dir=bids_root,\n",
    "                   include=[f'sub-{subject}'])"
   ]
  },
  {
   "cell_type": "markdown",
   "id": "b4e04074-106e-4db0-8719-38978fc44469",
   "metadata": {},
   "source": [
    "The downloaded data has the following BIDS file structure"
   ]
  },
  {
   "cell_type": "code",
   "execution_count": 4,
   "id": "309d59af-508b-43d5-bcca-b59d22f58fda",
   "metadata": {},
   "outputs": [
    {
     "name": "stdout",
     "output_type": "stream",
     "text": [
      "|ds002778/\n",
      "|--- CHANGES\n",
      "|--- README\n",
      "|--- dataset_description.json\n",
      "|--- participants.json\n",
      "|--- participants.tsv\n",
      "|--- sub-pd6/\n",
      "|------ ses-off/\n",
      "|--------- sub-pd6_ses-off_scans.tsv\n",
      "|--------- beh/\n",
      "|------------ sub-pd6_ses-off_task-rest_beh.json\n",
      "|------------ sub-pd6_ses-off_task-rest_beh.tsv\n",
      "|--------- eeg/\n",
      "|------------ sub-pd6_ses-off_task-rest_channels.tsv\n",
      "|------------ sub-pd6_ses-off_task-rest_eeg.bdf\n",
      "|------------ sub-pd6_ses-off_task-rest_eeg.json\n",
      "|------------ sub-pd6_ses-off_task-rest_events.tsv\n",
      "|------ ses-on/\n",
      "|--------- sub-pd6_ses-on_scans.tsv\n",
      "|--------- beh/\n",
      "|------------ sub-pd6_ses-on_task-rest_beh.json\n",
      "|------------ sub-pd6_ses-on_task-rest_beh.tsv\n",
      "|--------- eeg/\n",
      "|------------ sub-pd6_ses-on_task-rest_channels.tsv\n",
      "|------------ sub-pd6_ses-on_task-rest_eeg.bdf\n",
      "|------------ sub-pd6_ses-on_task-rest_eeg.json\n",
      "|------------ sub-pd6_ses-on_task-rest_events.tsv\n",
      "|--------- meg/\n"
     ]
    },
    {
     "data": {
      "application/vnd.jupyter.widget-view+json": {
       "model_id": "",
       "version_major": 2,
       "version_minor": 0
      },
      "text/plain": [
       "Skipping participants.json: already downloaded.: 100%|##########| 1.24k/1.24k [00:00<?, ?B/s]"
      ]
     },
     "metadata": {},
     "output_type": "display_data"
    },
    {
     "data": {
      "application/vnd.jupyter.widget-view+json": {
       "model_id": "",
       "version_major": 2,
       "version_minor": 0
      },
      "text/plain": [
       "Skipping participants.tsv: already downloaded.: 100%|##########| 1.62k/1.62k [00:00<?, ?B/s]"
      ]
     },
     "metadata": {},
     "output_type": "display_data"
    },
    {
     "data": {
      "application/vnd.jupyter.widget-view+json": {
       "model_id": "",
       "version_major": 2,
       "version_minor": 0
      },
      "text/plain": [
       "Re-downloading README: file size mismatch.: 0.00B [00:00, ?B/s]"
      ]
     },
     "metadata": {},
     "output_type": "display_data"
    },
    {
     "data": {
      "application/vnd.jupyter.widget-view+json": {
       "model_id": "",
       "version_major": 2,
       "version_minor": 0
      },
      "text/plain": [
       "Re-downloading dataset_description.json: file size mismatch.: 0.00B [00:00, ?B/s]"
      ]
     },
     "metadata": {},
     "output_type": "display_data"
    },
    {
     "data": {
      "application/vnd.jupyter.widget-view+json": {
       "model_id": "",
       "version_major": 2,
       "version_minor": 0
      },
      "text/plain": [
       "Re-downloading sub-pd6_ses-off_task-rest_beh.tsv: file size mismatch.: 0.00B [00:00, ?B/s]"
      ]
     },
     "metadata": {},
     "output_type": "display_data"
    },
    {
     "data": {
      "application/vnd.jupyter.widget-view+json": {
       "model_id": "",
       "version_major": 2,
       "version_minor": 0
      },
      "text/plain": [
       "Re-downloading CHANGES: file size mismatch.: 0.00B [00:00, ?B/s]"
      ]
     },
     "metadata": {},
     "output_type": "display_data"
    },
    {
     "data": {
      "application/vnd.jupyter.widget-view+json": {
       "model_id": "",
       "version_major": 2,
       "version_minor": 0
      },
      "text/plain": [
       "Skipping sub-pd6_ses-on_task-rest_channels.tsv: already downloaded.: 100%|##########| 2.22k/2.22k [00:00<?, ?B…"
      ]
     },
     "metadata": {},
     "output_type": "display_data"
    },
    {
     "data": {
      "application/vnd.jupyter.widget-view+json": {
       "model_id": "",
       "version_major": 2,
       "version_minor": 0
      },
      "text/plain": [
       "Re-downloading sub-pd6_ses-off_task-rest_beh.json: file size mismatch.: 0.00B [00:00, ?B/s]"
      ]
     },
     "metadata": {},
     "output_type": "display_data"
    },
    {
     "data": {
      "application/vnd.jupyter.widget-view+json": {
       "model_id": "",
       "version_major": 2,
       "version_minor": 0
      },
      "text/plain": [
       "Skipping sub-pd6_ses-on_task-rest_eeg.json: already downloaded.: 100%|##########| 471/471 [00:00<?, ?B/s]"
      ]
     },
     "metadata": {},
     "output_type": "display_data"
    },
    {
     "data": {
      "application/vnd.jupyter.widget-view+json": {
       "model_id": "",
       "version_major": 2,
       "version_minor": 0
      },
      "text/plain": [
       "Skipping sub-pd6_ses-on_task-rest_events.tsv: already downloaded.: 100%|##########| 51.0/51.0 [00:00<?, ?B/s]"
      ]
     },
     "metadata": {},
     "output_type": "display_data"
    },
    {
     "data": {
      "application/vnd.jupyter.widget-view+json": {
       "model_id": "",
       "version_major": 2,
       "version_minor": 0
      },
      "text/plain": [
       "Skipping sub-pd6_ses-on_scans.tsv: already downloaded.: 100%|##########| 74.0/74.0 [00:00<?, ?B/s]"
      ]
     },
     "metadata": {},
     "output_type": "display_data"
    },
    {
     "data": {
      "application/vnd.jupyter.widget-view+json": {
       "model_id": "",
       "version_major": 2,
       "version_minor": 0
      },
      "text/plain": [
       "Re-downloading sub-pd6_ses-on_task-rest_beh.tsv: file size mismatch.: 0.00B [00:00, ?B/s]"
      ]
     },
     "metadata": {},
     "output_type": "display_data"
    },
    {
     "data": {
      "application/vnd.jupyter.widget-view+json": {
       "model_id": "",
       "version_major": 2,
       "version_minor": 0
      },
      "text/plain": [
       "Skipping sub-pd6_ses-off_task-rest_events.tsv: already downloaded.: 100%|##########| 66.0/66.0 [00:00<?, ?B/s]"
      ]
     },
     "metadata": {},
     "output_type": "display_data"
    },
    {
     "data": {
      "application/vnd.jupyter.widget-view+json": {
       "model_id": "",
       "version_major": 2,
       "version_minor": 0
      },
      "text/plain": [
       "Skipping sub-pd6_ses-off_scans.tsv: already downloaded.: 100%|##########| 75.0/75.0 [00:00<?, ?B/s]"
      ]
     },
     "metadata": {},
     "output_type": "display_data"
    },
    {
     "data": {
      "application/vnd.jupyter.widget-view+json": {
       "model_id": "",
       "version_major": 2,
       "version_minor": 0
      },
      "text/plain": [
       "Skipping sub-pd6_ses-on_task-rest_beh.json: already downloaded.: 100%|##########| 433/433 [00:00<?, ?B/s]"
      ]
     },
     "metadata": {},
     "output_type": "display_data"
    },
    {
     "data": {
      "application/vnd.jupyter.widget-view+json": {
       "model_id": "",
       "version_major": 2,
       "version_minor": 0
      },
      "text/plain": [
       "Skipping sub-pd6_ses-off_task-rest_eeg.bdf: already downloaded.: 100%|##########| 11.5M/11.5M [00:00<?, ?B/s]"
      ]
     },
     "metadata": {},
     "output_type": "display_data"
    },
    {
     "data": {
      "application/vnd.jupyter.widget-view+json": {
       "model_id": "",
       "version_major": 2,
       "version_minor": 0
      },
      "text/plain": [
       "Re-downloading sub-pd6_ses-off_task-rest_eeg.json: file size mismatch.: 0.00B [00:00, ?B/s]"
      ]
     },
     "metadata": {},
     "output_type": "display_data"
    },
    {
     "data": {
      "application/vnd.jupyter.widget-view+json": {
       "model_id": "",
       "version_major": 2,
       "version_minor": 0
      },
      "text/plain": [
       "Skipping sub-pd6_ses-on_task-rest_eeg.bdf: already downloaded.: 100%|##########| 17.4M/17.4M [00:00<?, ?B/s]"
      ]
     },
     "metadata": {},
     "output_type": "display_data"
    },
    {
     "data": {
      "application/vnd.jupyter.widget-view+json": {
       "model_id": "",
       "version_major": 2,
       "version_minor": 0
      },
      "text/plain": [
       "Re-downloading sub-pd6_ses-off_task-rest_channels.tsv: file size mismatch.: 0.00B [00:00, ?B/s]"
      ]
     },
     "metadata": {},
     "output_type": "display_data"
    }
   ],
   "source": [
    "print_dir_tree(bids_root, max_depth=4)"
   ]
  },
  {
   "cell_type": "markdown",
   "id": "a1281609-84b4-4b0d-9db2-3b8eb7c71225",
   "metadata": {},
   "source": [
    "### Reading the data into an OutStruct\n",
    "\n",
    "In this task, the stimulus recorded is simply a sudden spike in the 'stim' channels, so the associated events have duration=0. For the sake of this tutorial, we will cut the data into trials based on the 'onset' of one event and ending at the onset of the next. If the durations of the stimulus events were meaningful, we could cut by the 'duration' of each event instead. See the `read_bids` documentation for more details."
   ]
  },
  {
   "cell_type": "code",
   "execution_count": 5,
   "id": "52bed6d8-2cf0-4f5c-a329-6fc30b69fe0b",
   "metadata": {},
   "outputs": [
    {
     "name": "stderr",
     "output_type": "stream",
     "text": [
      "100%|█████████████████████████████████████████████| 2/2 [00:00<00:00, 17.99it/s]\n"
     ]
    }
   ],
   "source": [
    "outstruct = read_bids(root=bids_root, subject=subject, datatype='eeg', task='rest', suffix='eeg', session='off')"
   ]
  },
  {
   "cell_type": "markdown",
   "id": "d67b3578-08af-4432-8c52-ce08d3d64d2b",
   "metadata": {},
   "source": [
    "#### Visualize the stims and responses for the first 3 seconds of one of the events"
   ]
  },
  {
   "cell_type": "code",
   "execution_count": 6,
   "id": "be8896da-0292-4ff9-851c-14cb89008523",
   "metadata": {},
   "outputs": [
    {
     "data": {
      "text/plain": [
       "512"
      ]
     },
     "execution_count": 6,
     "metadata": {},
     "output_type": "execute_result"
    }
   ],
   "source": [
    "sfreq = int(outstruct[0]['sfreq']) # sampling frequency of the data\n",
    "sfreq"
   ]
  },
  {
   "cell_type": "code",
   "execution_count": 7,
   "id": "d22a1ec7-34ca-4268-9c63-05420fecc1ac",
   "metadata": {},
   "outputs": [
    {
     "data": {
      "image/png": "[encoded data removed]",
      "text/plain": [
       "<Figure size 720x432 with 2 Axes>"
      ]
     },
     "metadata": {
      "needs_background": "light"
     },
     "output_type": "display_data"
    }
   ],
   "source": [
    "t = np.linspace(0, 3, 3*sfreq)\n",
    "\n",
    "fig, axes = plt.subplots(2,1, figsize=(10,6))\n",
    "axes[0].plot(t, outstruct[1]['stim'][:3*sfreq,:])\n",
    "axes[0].set_title('Event 1 Stim')\n",
    "\n",
    "axes[1].plot(t, outstruct[1]['resp'][:3*sfreq,:])\n",
    "axes[1].set_title('Event 1 Response')\n",
    "axes[1].set_label('Time (s)')\n",
    "plt.tight_layout()\n",
    "plt.show()\n"
   ]
  },
  {
   "cell_type": "markdown",
   "id": "5b1c3410-32f2-432f-907a-9aa78ef71147",
   "metadata": {},
   "source": [
    "### Storing a small portion of data before the onset of the stimulus event\n",
    "\n",
    "We can use the `befaft` parameter to store an additional bit of the recording before and/or after each stimulus event region."
   ]
  },
  {
   "cell_type": "code",
   "execution_count": 8,
   "id": "be889e3c-e72a-40a9-8854-7bf378a3972d",
   "metadata": {},
   "outputs": [
    {
     "name": "stderr",
     "output_type": "stream",
     "text": [
      "100%|█████████████████████████████████████████████| 2/2 [00:00<00:00, 20.30it/s]\n"
     ]
    }
   ],
   "source": [
    "befaft = [1,0] # keep 1 second before the stimulus, nothing extra after\n",
    "\n",
    "outstruct2 = read_bids(root=bids_root, subject=subject, datatype='eeg', task='rest', suffix='eeg', session='off', befaft=befaft)"
   ]
  },
  {
   "cell_type": "markdown",
   "id": "d4817473-b4c3-427c-a69d-6fffcdfa4fbc",
   "metadata": {},
   "source": [
    "#### Now, when we visualize we have a bit of data from before the stimulus onset"
   ]
  },
  {
   "cell_type": "code",
   "execution_count": 9,
   "id": "cf7a00c0-7e7b-4296-9e7d-9dff39a118bc",
   "metadata": {},
   "outputs": [
    {
     "data": {
      "image/png": "[encoded data removed]",
      "text/plain": [
       "<Figure size 720x432 with 2 Axes>"
      ]
     },
     "metadata": {
      "needs_background": "light"
     },
     "output_type": "display_data"
    }
   ],
   "source": [
    "t = np.linspace(-1, 2, 3*sfreq)\n",
    "\n",
    "fig, axes = plt.subplots(2,1, figsize=(10,6))\n",
    "axes[0].plot(t, outstruct2[1]['stim'][:3*sfreq,:])\n",
    "axes[0].set_title('Event 1 Stim')\n",
    "\n",
    "axes[1].plot(t, outstruct2[1]['resp'][:3*sfreq,:])\n",
    "axes[1].set_title('Event 1 Response')\n",
    "axes[1].set_label('Time (s)')\n",
    "plt.tight_layout()\n",
    "plt.show()"
   ]
  },
  {
   "cell_type": "markdown",
   "id": "96b27b71-473e-4be2-8d2d-0186e35fa08f",
   "metadata": {},
   "source": [
    "#### We can also see the channel names with the ch_names field"
   ]
  },
  {
   "cell_type": "code",
   "execution_count": 10,
   "id": "9ef62ff6-567a-4991-bebe-2e8e91c07738",
   "metadata": {},
   "outputs": [
    {
     "data": {
      "text/plain": [
       "['Fp1',\n",
       " 'AF3',\n",
       " 'F7',\n",
       " 'F3',\n",
       " 'FC1',\n",
       " 'FC5',\n",
       " 'T7',\n",
       " 'C3',\n",
       " 'CP1',\n",
       " 'CP5',\n",
       " 'P7',\n",
       " 'P3',\n",
       " 'Pz',\n",
       " 'PO3',\n",
       " 'O1',\n",
       " 'Oz',\n",
       " 'O2',\n",
       " 'PO4',\n",
       " 'P4',\n",
       " 'P8',\n",
       " 'CP6',\n",
       " 'CP2',\n",
       " 'C4',\n",
       " 'T8',\n",
       " 'FC6',\n",
       " 'FC2',\n",
       " 'F4',\n",
       " 'F8',\n",
       " 'AF4',\n",
       " 'Fp2',\n",
       " 'Fz',\n",
       " 'Cz',\n",
       " 'EXG1',\n",
       " 'EXG2',\n",
       " 'EXG3',\n",
       " 'EXG4',\n",
       " 'EXG5',\n",
       " 'EXG6',\n",
       " 'EXG7',\n",
       " 'EXG8']"
      ]
     },
     "execution_count": 10,
     "metadata": {},
     "output_type": "execute_result"
    }
   ],
   "source": [
    "outstruct2[0]['ch_names']"
   ]
  }
 ],
 "metadata": {
  "kernelspec": {
   "display_name": "bids",
   "language": "python",
   "name": "bids"
  },
  "language_info": {
   "codemirror_mode": {
    "name": "ipython",
    "version": 3
   },
   "file_extension": ".py",
   "mimetype": "text/x-python",
   "name": "python",
   "nbconvert_exporter": "python",
   "pygments_lexer": "ipython3",
   "version": "3.7.13"
  }
 },
 "nbformat": 4,
 "nbformat_minor": 5
}
